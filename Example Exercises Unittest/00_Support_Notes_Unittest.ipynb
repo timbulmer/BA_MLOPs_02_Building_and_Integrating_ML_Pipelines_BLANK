{
 "cells": [
  {
   "cell_type": "markdown",
   "id": "c6ba1a30",
   "metadata": {},
   "source": [
    "<img src=\"../media/LandingPage-Header-RED-CENTRE.jpg\" alt=\"Notebook Banner\" style=\"width:100%; height:auto; display:block; margin-left:auto; margin-right:auto;\">"
   ]
  },
  {
   "cell_type": "markdown",
   "id": "unittest_basic_structure_text",
   "metadata": {},
   "source": [
    "# Unittest Exercises\n",
    "\n",
    "This workbook provides some simple exercises to get you familiar with `unittest`. Each exercise has the solution available below, try and attempt the question before checking the solution.\n",
    "\n",
    "### Basic `unittest` Structure Reminder\n",
    "\n",
    "Every `unittest` test case inherits from `unittest.TestCase`. Tests are methods that start with `test_`. Assertions are used to check conditions."
   ]
  },
  {
   "cell_type": "code",
   "execution_count": 1,
   "id": "unittest_basic_structure_code",
   "metadata": {},
   "outputs": [
    {
     "name": "stderr",
     "output_type": "stream",
     "text": [
      "usage: ipykernel_launcher.py [-h] [-v] [-q] [--locals] [-f] [-c] [-b]\n",
      "                             [-k TESTNAMEPATTERNS]\n",
      "                             [tests ...]\n",
      "ipykernel_launcher.py: error: argument -f/--failfast: ignored explicit argument 'c:\\\\Users\\\\MiguelAngelSanchezRa\\\\AppData\\\\Roaming\\\\jupyter\\\\runtime\\\\kernel-v30fd5f3fa7394585a0591bb0904bd9d27f9c613fd.json'\n"
     ]
    },
    {
     "ename": "AttributeError",
     "evalue": "'tuple' object has no attribute 'tb_frame'",
     "output_type": "error",
     "traceback": [
      "\u001b[1;31m---------------------------------------------------------------------------\u001b[0m",
      "\u001b[1;31mArgumentError\u001b[0m                             Traceback (most recent call last)",
      "File \u001b[1;32mc:\\Users\\MiguelAngelSanchezRa\\anaconda3\\envs\\base2\\Lib\\argparse.py:1902\u001b[0m, in \u001b[0;36mArgumentParser.parse_known_args\u001b[1;34m(self, args, namespace)\u001b[0m\n\u001b[0;32m   1901\u001b[0m \u001b[38;5;28;01mtry\u001b[39;00m:\n\u001b[1;32m-> 1902\u001b[0m     namespace, args \u001b[38;5;241m=\u001b[39m \u001b[38;5;28mself\u001b[39m\u001b[38;5;241m.\u001b[39m_parse_known_args(args, namespace)\n\u001b[0;32m   1903\u001b[0m \u001b[38;5;28;01mexcept\u001b[39;00m ArgumentError \u001b[38;5;28;01mas\u001b[39;00m err:\n",
      "File \u001b[1;32mc:\\Users\\MiguelAngelSanchezRa\\anaconda3\\envs\\base2\\Lib\\argparse.py:2114\u001b[0m, in \u001b[0;36mArgumentParser._parse_known_args\u001b[1;34m(self, arg_strings, namespace)\u001b[0m\n\u001b[0;32m   2113\u001b[0m     \u001b[38;5;66;03m# consume the next optional and any arguments for it\u001b[39;00m\n\u001b[1;32m-> 2114\u001b[0m     start_index \u001b[38;5;241m=\u001b[39m consume_optional(start_index)\n\u001b[0;32m   2116\u001b[0m \u001b[38;5;66;03m# consume any positionals following the last Optional\u001b[39;00m\n",
      "File \u001b[1;32mc:\\Users\\MiguelAngelSanchezRa\\anaconda3\\envs\\base2\\Lib\\argparse.py:2036\u001b[0m, in \u001b[0;36mArgumentParser._parse_known_args.<locals>.consume_optional\u001b[1;34m(start_index)\u001b[0m\n\u001b[0;32m   2035\u001b[0m         msg \u001b[38;5;241m=\u001b[39m _(\u001b[38;5;124m'\u001b[39m\u001b[38;5;124mignored explicit argument \u001b[39m\u001b[38;5;132;01m%r\u001b[39;00m\u001b[38;5;124m'\u001b[39m)\n\u001b[1;32m-> 2036\u001b[0m         \u001b[38;5;28;01mraise\u001b[39;00m ArgumentError(action, msg \u001b[38;5;241m%\u001b[39m explicit_arg)\n\u001b[0;32m   2038\u001b[0m \u001b[38;5;66;03m# if there is no explicit argument, try to match the\u001b[39;00m\n\u001b[0;32m   2039\u001b[0m \u001b[38;5;66;03m# optional's string arguments with the following strings\u001b[39;00m\n\u001b[0;32m   2040\u001b[0m \u001b[38;5;66;03m# if successful, exit the loop\u001b[39;00m\n\u001b[0;32m   2041\u001b[0m \u001b[38;5;28;01melse\u001b[39;00m:\n",
      "\u001b[1;31mArgumentError\u001b[0m: argument -f/--failfast: ignored explicit argument 'c:\\\\Users\\\\MiguelAngelSanchezRa\\\\AppData\\\\Roaming\\\\jupyter\\\\runtime\\\\kernel-v30fd5f3fa7394585a0591bb0904bd9d27f9c613fd.json'",
      "\nDuring handling of the above exception, another exception occurred:\n",
      "\u001b[1;31mSystemExit\u001b[0m                                Traceback (most recent call last)",
      "    \u001b[1;31m[... skipping hidden 1 frame]\u001b[0m\n",
      "Cell \u001b[1;32mIn[1], line 18\u001b[0m\n\u001b[0;32m     17\u001b[0m \u001b[38;5;28;01mif\u001b[39;00m \u001b[38;5;18m__name__\u001b[39m \u001b[38;5;241m==\u001b[39m \u001b[38;5;124m'\u001b[39m\u001b[38;5;124m__main__\u001b[39m\u001b[38;5;124m'\u001b[39m:\n\u001b[1;32m---> 18\u001b[0m     unittest\u001b[38;5;241m.\u001b[39mmain()\n",
      "File \u001b[1;32mc:\\Users\\MiguelAngelSanchezRa\\anaconda3\\envs\\base2\\Lib\\unittest\\main.py:101\u001b[0m, in \u001b[0;36mTestProgram.__init__\u001b[1;34m(self, module, defaultTest, argv, testRunner, testLoader, exit, verbosity, failfast, catchbreak, buffer, warnings, tb_locals)\u001b[0m\n\u001b[0;32m    100\u001b[0m \u001b[38;5;28mself\u001b[39m\u001b[38;5;241m.\u001b[39mprogName \u001b[38;5;241m=\u001b[39m os\u001b[38;5;241m.\u001b[39mpath\u001b[38;5;241m.\u001b[39mbasename(argv[\u001b[38;5;241m0\u001b[39m])\n\u001b[1;32m--> 101\u001b[0m \u001b[38;5;28mself\u001b[39m\u001b[38;5;241m.\u001b[39mparseArgs(argv)\n\u001b[0;32m    102\u001b[0m \u001b[38;5;28mself\u001b[39m\u001b[38;5;241m.\u001b[39mrunTests()\n",
      "File \u001b[1;32mc:\\Users\\MiguelAngelSanchezRa\\anaconda3\\envs\\base2\\Lib\\unittest\\main.py:136\u001b[0m, in \u001b[0;36mTestProgram.parseArgs\u001b[1;34m(self, argv)\u001b[0m\n\u001b[0;32m    135\u001b[0m \u001b[38;5;28;01melse\u001b[39;00m:\n\u001b[1;32m--> 136\u001b[0m     \u001b[38;5;28mself\u001b[39m\u001b[38;5;241m.\u001b[39m_main_parser\u001b[38;5;241m.\u001b[39mparse_args(argv[\u001b[38;5;241m1\u001b[39m:], \u001b[38;5;28mself\u001b[39m)\n\u001b[0;32m    138\u001b[0m \u001b[38;5;28;01mif\u001b[39;00m \u001b[38;5;28mself\u001b[39m\u001b[38;5;241m.\u001b[39mtests:\n",
      "File \u001b[1;32mc:\\Users\\MiguelAngelSanchezRa\\anaconda3\\envs\\base2\\Lib\\argparse.py:1869\u001b[0m, in \u001b[0;36mArgumentParser.parse_args\u001b[1;34m(self, args, namespace)\u001b[0m\n\u001b[0;32m   1868\u001b[0m \u001b[38;5;28;01mdef\u001b[39;00m \u001b[38;5;21mparse_args\u001b[39m(\u001b[38;5;28mself\u001b[39m, args\u001b[38;5;241m=\u001b[39m\u001b[38;5;28;01mNone\u001b[39;00m, namespace\u001b[38;5;241m=\u001b[39m\u001b[38;5;28;01mNone\u001b[39;00m):\n\u001b[1;32m-> 1869\u001b[0m     args, argv \u001b[38;5;241m=\u001b[39m \u001b[38;5;28mself\u001b[39m\u001b[38;5;241m.\u001b[39mparse_known_args(args, namespace)\n\u001b[0;32m   1870\u001b[0m     \u001b[38;5;28;01mif\u001b[39;00m argv:\n",
      "File \u001b[1;32mc:\\Users\\MiguelAngelSanchezRa\\anaconda3\\envs\\base2\\Lib\\argparse.py:1904\u001b[0m, in \u001b[0;36mArgumentParser.parse_known_args\u001b[1;34m(self, args, namespace)\u001b[0m\n\u001b[0;32m   1903\u001b[0m     \u001b[38;5;28;01mexcept\u001b[39;00m ArgumentError \u001b[38;5;28;01mas\u001b[39;00m err:\n\u001b[1;32m-> 1904\u001b[0m         \u001b[38;5;28mself\u001b[39m\u001b[38;5;241m.\u001b[39merror(\u001b[38;5;28mstr\u001b[39m(err))\n\u001b[0;32m   1905\u001b[0m \u001b[38;5;28;01melse\u001b[39;00m:\n",
      "File \u001b[1;32mc:\\Users\\MiguelAngelSanchezRa\\anaconda3\\envs\\base2\\Lib\\argparse.py:2630\u001b[0m, in \u001b[0;36mArgumentParser.error\u001b[1;34m(self, message)\u001b[0m\n\u001b[0;32m   2629\u001b[0m args \u001b[38;5;241m=\u001b[39m {\u001b[38;5;124m'\u001b[39m\u001b[38;5;124mprog\u001b[39m\u001b[38;5;124m'\u001b[39m: \u001b[38;5;28mself\u001b[39m\u001b[38;5;241m.\u001b[39mprog, \u001b[38;5;124m'\u001b[39m\u001b[38;5;124mmessage\u001b[39m\u001b[38;5;124m'\u001b[39m: message}\n\u001b[1;32m-> 2630\u001b[0m \u001b[38;5;28mself\u001b[39m\u001b[38;5;241m.\u001b[39mexit(\u001b[38;5;241m2\u001b[39m, _(\u001b[38;5;124m'\u001b[39m\u001b[38;5;132;01m%(prog)s\u001b[39;00m\u001b[38;5;124m: error: \u001b[39m\u001b[38;5;132;01m%(message)s\u001b[39;00m\u001b[38;5;130;01m\\n\u001b[39;00m\u001b[38;5;124m'\u001b[39m) \u001b[38;5;241m%\u001b[39m args)\n",
      "File \u001b[1;32mc:\\Users\\MiguelAngelSanchezRa\\anaconda3\\envs\\base2\\Lib\\argparse.py:2617\u001b[0m, in \u001b[0;36mArgumentParser.exit\u001b[1;34m(self, status, message)\u001b[0m\n\u001b[0;32m   2616\u001b[0m     \u001b[38;5;28mself\u001b[39m\u001b[38;5;241m.\u001b[39m_print_message(message, _sys\u001b[38;5;241m.\u001b[39mstderr)\n\u001b[1;32m-> 2617\u001b[0m _sys\u001b[38;5;241m.\u001b[39mexit(status)\n",
      "\u001b[1;31mSystemExit\u001b[0m: 2",
      "\nDuring handling of the above exception, another exception occurred:\n",
      "\u001b[1;31mAttributeError\u001b[0m                            Traceback (most recent call last)",
      "    \u001b[1;31m[... skipping hidden 1 frame]\u001b[0m\n",
      "File \u001b[1;32mc:\\Users\\MiguelAngelSanchezRa\\anaconda3\\envs\\base2\\Lib\\site-packages\\IPython\\core\\interactiveshell.py:2092\u001b[0m, in \u001b[0;36mInteractiveShell.showtraceback\u001b[1;34m(self, exc_tuple, filename, tb_offset, exception_only, running_compiled_code)\u001b[0m\n\u001b[0;32m   2089\u001b[0m \u001b[38;5;28;01mif\u001b[39;00m exception_only:\n\u001b[0;32m   2090\u001b[0m     stb \u001b[38;5;241m=\u001b[39m [\u001b[38;5;124m'\u001b[39m\u001b[38;5;124mAn exception has occurred, use \u001b[39m\u001b[38;5;124m%\u001b[39m\u001b[38;5;124mtb to see \u001b[39m\u001b[38;5;124m'\u001b[39m\n\u001b[0;32m   2091\u001b[0m            \u001b[38;5;124m'\u001b[39m\u001b[38;5;124mthe full traceback.\u001b[39m\u001b[38;5;130;01m\\n\u001b[39;00m\u001b[38;5;124m'\u001b[39m]\n\u001b[1;32m-> 2092\u001b[0m     stb\u001b[38;5;241m.\u001b[39mextend(\u001b[38;5;28mself\u001b[39m\u001b[38;5;241m.\u001b[39mInteractiveTB\u001b[38;5;241m.\u001b[39mget_exception_only(etype,\n\u001b[0;32m   2093\u001b[0m                                                      value))\n\u001b[0;32m   2094\u001b[0m \u001b[38;5;28;01melse\u001b[39;00m:\n\u001b[0;32m   2095\u001b[0m     \u001b[38;5;28;01mtry\u001b[39;00m:\n\u001b[0;32m   2096\u001b[0m         \u001b[38;5;66;03m# Exception classes can customise their traceback - we\u001b[39;00m\n\u001b[0;32m   2097\u001b[0m         \u001b[38;5;66;03m# use this in IPython.parallel for exceptions occurring\u001b[39;00m\n\u001b[0;32m   2098\u001b[0m         \u001b[38;5;66;03m# in the engines. This should return a list of strings.\u001b[39;00m\n",
      "File \u001b[1;32mc:\\Users\\MiguelAngelSanchezRa\\anaconda3\\envs\\base2\\Lib\\site-packages\\IPython\\core\\ultratb.py:644\u001b[0m, in \u001b[0;36mListTB.get_exception_only\u001b[1;34m(self, etype, value)\u001b[0m\n\u001b[0;32m    636\u001b[0m \u001b[38;5;28;01mdef\u001b[39;00m \u001b[38;5;21mget_exception_only\u001b[39m(\u001b[38;5;28mself\u001b[39m, etype, value):\n\u001b[0;32m    637\u001b[0m \u001b[38;5;250m    \u001b[39m\u001b[38;5;124;03m\"\"\"Only print the exception type and message, without a traceback.\u001b[39;00m\n\u001b[0;32m    638\u001b[0m \n\u001b[0;32m    639\u001b[0m \u001b[38;5;124;03m    Parameters\u001b[39;00m\n\u001b[1;32m   (...)\u001b[0m\n\u001b[0;32m    642\u001b[0m \u001b[38;5;124;03m    value : exception value\u001b[39;00m\n\u001b[0;32m    643\u001b[0m \u001b[38;5;124;03m    \"\"\"\u001b[39;00m\n\u001b[1;32m--> 644\u001b[0m     \u001b[38;5;28;01mreturn\u001b[39;00m ListTB\u001b[38;5;241m.\u001b[39mstructured_traceback(\u001b[38;5;28mself\u001b[39m, etype, value)\n",
      "File \u001b[1;32mc:\\Users\\MiguelAngelSanchezRa\\anaconda3\\envs\\base2\\Lib\\site-packages\\IPython\\core\\ultratb.py:511\u001b[0m, in \u001b[0;36mListTB.structured_traceback\u001b[1;34m(self, etype, evalue, etb, tb_offset, context)\u001b[0m\n\u001b[0;32m    508\u001b[0m     chained_exc_ids\u001b[38;5;241m.\u001b[39madd(\u001b[38;5;28mid\u001b[39m(exception[\u001b[38;5;241m1\u001b[39m]))\n\u001b[0;32m    509\u001b[0m     chained_exceptions_tb_offset \u001b[38;5;241m=\u001b[39m \u001b[38;5;241m0\u001b[39m\n\u001b[0;32m    510\u001b[0m     out_list \u001b[38;5;241m=\u001b[39m (\n\u001b[1;32m--> 511\u001b[0m         \u001b[38;5;28mself\u001b[39m\u001b[38;5;241m.\u001b[39mstructured_traceback(\n\u001b[0;32m    512\u001b[0m             etype, evalue, (etb, chained_exc_ids),\n\u001b[0;32m    513\u001b[0m             chained_exceptions_tb_offset, context)\n\u001b[0;32m    514\u001b[0m         \u001b[38;5;241m+\u001b[39m chained_exception_message\n\u001b[0;32m    515\u001b[0m         \u001b[38;5;241m+\u001b[39m out_list)\n\u001b[0;32m    517\u001b[0m \u001b[38;5;28;01mreturn\u001b[39;00m out_list\n",
      "File \u001b[1;32mc:\\Users\\MiguelAngelSanchezRa\\anaconda3\\envs\\base2\\Lib\\site-packages\\IPython\\core\\ultratb.py:1310\u001b[0m, in \u001b[0;36mAutoFormattedTB.structured_traceback\u001b[1;34m(self, etype, value, tb, tb_offset, number_of_lines_of_context)\u001b[0m\n\u001b[0;32m   1308\u001b[0m \u001b[38;5;28;01melse\u001b[39;00m:\n\u001b[0;32m   1309\u001b[0m     \u001b[38;5;28mself\u001b[39m\u001b[38;5;241m.\u001b[39mtb \u001b[38;5;241m=\u001b[39m tb\n\u001b[1;32m-> 1310\u001b[0m \u001b[38;5;28;01mreturn\u001b[39;00m FormattedTB\u001b[38;5;241m.\u001b[39mstructured_traceback(\n\u001b[0;32m   1311\u001b[0m     \u001b[38;5;28mself\u001b[39m, etype, value, tb, tb_offset, number_of_lines_of_context)\n",
      "File \u001b[1;32mc:\\Users\\MiguelAngelSanchezRa\\anaconda3\\envs\\base2\\Lib\\site-packages\\IPython\\core\\ultratb.py:1199\u001b[0m, in \u001b[0;36mFormattedTB.structured_traceback\u001b[1;34m(self, etype, value, tb, tb_offset, number_of_lines_of_context)\u001b[0m\n\u001b[0;32m   1196\u001b[0m mode \u001b[38;5;241m=\u001b[39m \u001b[38;5;28mself\u001b[39m\u001b[38;5;241m.\u001b[39mmode\n\u001b[0;32m   1197\u001b[0m \u001b[38;5;28;01mif\u001b[39;00m mode \u001b[38;5;129;01min\u001b[39;00m \u001b[38;5;28mself\u001b[39m\u001b[38;5;241m.\u001b[39mverbose_modes:\n\u001b[0;32m   1198\u001b[0m     \u001b[38;5;66;03m# Verbose modes need a full traceback\u001b[39;00m\n\u001b[1;32m-> 1199\u001b[0m     \u001b[38;5;28;01mreturn\u001b[39;00m VerboseTB\u001b[38;5;241m.\u001b[39mstructured_traceback(\n\u001b[0;32m   1200\u001b[0m         \u001b[38;5;28mself\u001b[39m, etype, value, tb, tb_offset, number_of_lines_of_context\n\u001b[0;32m   1201\u001b[0m     )\n\u001b[0;32m   1202\u001b[0m \u001b[38;5;28;01melif\u001b[39;00m mode \u001b[38;5;241m==\u001b[39m \u001b[38;5;124m'\u001b[39m\u001b[38;5;124mMinimal\u001b[39m\u001b[38;5;124m'\u001b[39m:\n\u001b[0;32m   1203\u001b[0m     \u001b[38;5;28;01mreturn\u001b[39;00m ListTB\u001b[38;5;241m.\u001b[39mget_exception_only(\u001b[38;5;28mself\u001b[39m, etype, value)\n",
      "File \u001b[1;32mc:\\Users\\MiguelAngelSanchezRa\\anaconda3\\envs\\base2\\Lib\\site-packages\\IPython\\core\\ultratb.py:1052\u001b[0m, in \u001b[0;36mVerboseTB.structured_traceback\u001b[1;34m(self, etype, evalue, etb, tb_offset, number_of_lines_of_context)\u001b[0m\n\u001b[0;32m   1043\u001b[0m \u001b[38;5;28;01mdef\u001b[39;00m \u001b[38;5;21mstructured_traceback\u001b[39m(\n\u001b[0;32m   1044\u001b[0m     \u001b[38;5;28mself\u001b[39m,\n\u001b[0;32m   1045\u001b[0m     etype: \u001b[38;5;28mtype\u001b[39m,\n\u001b[1;32m   (...)\u001b[0m\n\u001b[0;32m   1049\u001b[0m     number_of_lines_of_context: \u001b[38;5;28mint\u001b[39m \u001b[38;5;241m=\u001b[39m \u001b[38;5;241m5\u001b[39m,\n\u001b[0;32m   1050\u001b[0m ):\n\u001b[0;32m   1051\u001b[0m \u001b[38;5;250m    \u001b[39m\u001b[38;5;124;03m\"\"\"Return a nice text document describing the traceback.\"\"\"\u001b[39;00m\n\u001b[1;32m-> 1052\u001b[0m     formatted_exception \u001b[38;5;241m=\u001b[39m \u001b[38;5;28mself\u001b[39m\u001b[38;5;241m.\u001b[39mformat_exception_as_a_whole(etype, evalue, etb, number_of_lines_of_context,\n\u001b[0;32m   1053\u001b[0m                                                            tb_offset)\n\u001b[0;32m   1055\u001b[0m     colors \u001b[38;5;241m=\u001b[39m \u001b[38;5;28mself\u001b[39m\u001b[38;5;241m.\u001b[39mColors  \u001b[38;5;66;03m# just a shorthand + quicker name lookup\u001b[39;00m\n\u001b[0;32m   1056\u001b[0m     colorsnormal \u001b[38;5;241m=\u001b[39m colors\u001b[38;5;241m.\u001b[39mNormal  \u001b[38;5;66;03m# used a lot\u001b[39;00m\n",
      "File \u001b[1;32mc:\\Users\\MiguelAngelSanchezRa\\anaconda3\\envs\\base2\\Lib\\site-packages\\IPython\\core\\ultratb.py:953\u001b[0m, in \u001b[0;36mVerboseTB.format_exception_as_a_whole\u001b[1;34m(self, etype, evalue, etb, number_of_lines_of_context, tb_offset)\u001b[0m\n\u001b[0;32m    950\u001b[0m \u001b[38;5;28;01massert\u001b[39;00m \u001b[38;5;28misinstance\u001b[39m(tb_offset, \u001b[38;5;28mint\u001b[39m)\n\u001b[0;32m    951\u001b[0m head \u001b[38;5;241m=\u001b[39m \u001b[38;5;28mself\u001b[39m\u001b[38;5;241m.\u001b[39mprepare_header(etype, \u001b[38;5;28mself\u001b[39m\u001b[38;5;241m.\u001b[39mlong_header)\n\u001b[0;32m    952\u001b[0m records \u001b[38;5;241m=\u001b[39m (\n\u001b[1;32m--> 953\u001b[0m     \u001b[38;5;28mself\u001b[39m\u001b[38;5;241m.\u001b[39mget_records(etb, number_of_lines_of_context, tb_offset) \u001b[38;5;28;01mif\u001b[39;00m etb \u001b[38;5;28;01melse\u001b[39;00m []\n\u001b[0;32m    954\u001b[0m )\n\u001b[0;32m    956\u001b[0m frames \u001b[38;5;241m=\u001b[39m []\n\u001b[0;32m    957\u001b[0m skipped \u001b[38;5;241m=\u001b[39m \u001b[38;5;241m0\u001b[39m\n",
      "File \u001b[1;32mc:\\Users\\MiguelAngelSanchezRa\\anaconda3\\envs\\base2\\Lib\\site-packages\\IPython\\core\\ultratb.py:1021\u001b[0m, in \u001b[0;36mVerboseTB.get_records\u001b[1;34m(self, etb, number_of_lines_of_context, tb_offset)\u001b[0m\n\u001b[0;32m   1019\u001b[0m \u001b[38;5;28;01mwhile\u001b[39;00m cf \u001b[38;5;129;01mis\u001b[39;00m \u001b[38;5;129;01mnot\u001b[39;00m \u001b[38;5;28;01mNone\u001b[39;00m:\n\u001b[0;32m   1020\u001b[0m     \u001b[38;5;28;01mtry\u001b[39;00m:\n\u001b[1;32m-> 1021\u001b[0m         source_file \u001b[38;5;241m=\u001b[39m inspect\u001b[38;5;241m.\u001b[39mgetsourcefile(etb\u001b[38;5;241m.\u001b[39mtb_frame)\n\u001b[0;32m   1022\u001b[0m         lines, first \u001b[38;5;241m=\u001b[39m inspect\u001b[38;5;241m.\u001b[39mgetsourcelines(etb\u001b[38;5;241m.\u001b[39mtb_frame)\n\u001b[0;32m   1023\u001b[0m     \u001b[38;5;28;01mexcept\u001b[39;00m \u001b[38;5;167;01mOSError\u001b[39;00m:\n",
      "\u001b[1;31mAttributeError\u001b[0m: 'tuple' object has no attribute 'tb_frame'"
     ]
    }
   ],
   "source": [
    "import unittest\n",
    "\n",
    "# Function to be tested\n",
    "def add(a, b):\n",
    "    return a + b\n",
    "\n",
    "class TestAddFunction(unittest.TestCase):\n",
    "    def test_positive_numbers(self):\n",
    "        self.assertEqual(add(2, 3), 5)\n",
    "\n",
    "    def test_negative_numbers(self):\n",
    "        self.assertEqual(add(-1, -1), -2)\n",
    "\n",
    "    def test_zero_with_number(self):\n",
    "        self.assertEqual(add(0, 7), 7)\n",
    "\n",
    "if __name__ == '__main__':\n",
    "    unittest.main()"
   ]
  },
  {
   "cell_type": "markdown",
   "id": "exercise_1_desc",
   "metadata": {},
   "source": [
    "### Exercise 1: Testing a Simple Utility Function\n",
    "\n",
    "**Scenario:** You have a utility function that formats a name.\n",
    "\n",
    "**Code to Test:**"
   ]
  },
  {
   "cell_type": "code",
   "execution_count": null,
   "id": "exercise_1_code_to_test",
   "metadata": {},
   "outputs": [],
   "source": [
    "def format_name(first, last, middle=\"\"):\n",
    "    \"\"\"Formats a name as 'Last, First M.' or 'Last, First'.\"\"\"\n",
    "    if not first and not last:\n",
    "        return \"\" # Added a specific handling for this edge case\n",
    "    if middle:\n",
    "        return f\"{last}, {first} {middle[0].upper()}.\"\n",
    "    return f\"{last}, {first}\""
   ]
  },
  {
   "cell_type": "markdown",
   "id": "exercise_1_task_and_solution_toggle",
   "metadata": {},
   "source": [
    "**Task:** Write `unittest` test cases for `format_name` covering:\n",
    "1.  A name with a first and last name only.\n",
    "2.  A name with a first, middle, and last name.\n",
    "3.  Edge case: empty strings for first/last name (what should happen?).\n",
    "4.  Edge case: middle name is not a single character, ensure only the first character is used.\n",
    "\n"
   ]
  },
  {
   "cell_type": "markdown",
   "id": "exercise_1_solution_end_tag",
   "metadata": {},
   "source": [
    "</details>"
   ]
  },
  {
   "cell_type": "markdown",
   "id": "exercise_2_desc",
   "metadata": {},
   "source": [
    "### Exercise 2: Testing Class Initialization and Methods\n",
    "\n",
    "**Scenario:** You have a `Rectangle` class.\n",
    "\n",
    "**Code to Test:**"
   ]
  },
  {
   "cell_type": "code",
   "execution_count": null,
   "id": "exercise_2_code_to_test",
   "metadata": {},
   "outputs": [],
   "source": [
    "class Rectangle:\n",
    "    def __init__(self, width, height):\n",
    "        if width <= 0 or height <= 0:\n",
    "            raise ValueError(\"Width and height must be positive.\")\n",
    "        self.width = width\n",
    "        self.height = height\n",
    "\n",
    "    def area(self):\n",
    "        return self.width * self.height\n",
    "\n",
    "    def perimeter(self):\n",
    "        return 2 * (self.width + self.height)"
   ]
  },
  {
   "cell_type": "markdown",
   "id": "exercise_2_task_and_solution_toggle",
   "metadata": {},
   "source": [
    "**Task:** Write `unittest` test cases for the `Rectangle` class covering:\n",
    "1.  Successful initialization with valid dimensions.\n",
    "2.  `ValueError` is raised for non-positive width or height during initialization.\n",
    "3.  Correct `area` calculation.\n",
    "4.  Correct `perimeter` calculation.\n",
    "5.  Consider adding `setUp` method to create a common `Rectangle` instance for multiple tests.\n",
    "\n"
   ]
  },
  {
   "cell_type": "code",
   "execution_count": null,
   "id": "exercise_2_solution_code",
   "metadata": {},
   "outputs": [],
   "source": [
    "import unittest\n",
    "\n"
   ]
  },
  {
   "cell_type": "markdown",
   "id": "exercise_2_solution_end_tag",
   "metadata": {},
   "source": [
    "</details>"
   ]
  },
  {
   "cell_type": "markdown",
   "id": "exercise_3_desc",
   "metadata": {},
   "source": [
    "### Exercise 3: Testing Randomness (with a caveat)\n",
    "\n",
    "**Scenario:** You have a function that shuffles a list, and you want to ensure it generally changes the order, but acknowledging true randomness is hard to test deterministically.\n",
    "\n",
    "**Code to Test:**"
   ]
  },
  {
   "cell_type": "code",
   "execution_count": null,
   "id": "unconventional_exercise_3_code_to_test",
   "metadata": {},
   "outputs": [],
   "source": [
    "import random\n",
    "\n",
    "def shuffle_list_in_place(items):\n",
    "    \"\"\"Shuffles a list in place.\"\"\"\n",
    "    random.shuffle(items)\n",
    "    return items # Return for convenience in testing\n",
    "\n",
    "def get_random_number_in_range(low, high):\n",
    "    \"\"\"Returns a random integer within a specified range (inclusive).\"\"\"\n",
    "    return random.randint(low, high)"
   ]
  },
  {
   "cell_type": "markdown",
   "id": "exercise_3_task_and_solution_toggle",
   "metadata": {},
   "source": [
    "**Task:** Write `unittest` tests for these functions.\n",
    "1.  **For `shuffle_list_in_place`:**\n",
    "    * Test that the shuffled list has the same elements as the original (just in a different order). Use `self.assertCountEqual`.\n",
    "    * Test that the shuffled list is *usually* not the same as the original. Run the shuffle multiple times and assert that the original and shuffled lists are not equal in a high percentage of runs. (Note: This is probabilistic and can fail rarely, which is why it's unconventional for strict unit tests).\n",
    "    * **Hint:** Use `random.seed()` in your `setUp` or test method to make the shuffle *deterministic* for testing purposes, but explain why this is done (to ensure test repeatability) and its limitation for real randomness.\n",
    "2.  **For `get_random_number_in_range`:**\n",
    "    * Test that the returned number falls within the expected range (`low` and `high` inclusive). Run many iterations.\n",
    "    * Test that if `random.seed()` is set, the function produces a *predictable* sequence of numbers.\n",
    "\n",
    "<details>\n",
    "<summary>Click to reveal Solution for Exercise 3</summary>"
   ]
  },
  {
   "cell_type": "code",
   "execution_count": null,
   "id": "unconventional_exercise_3_solution_code",
   "metadata": {},
   "outputs": [
    {
     "name": "stderr",
     "output_type": "stream",
     "text": [
      "...F...EE\n",
      "======================================================================\n",
      "ERROR: test_get_greeting (__main__.TestTimeSensitiveLogic.test_get_greeting)\n",
      "----------------------------------------------------------------------\n",
      "Traceback (most recent call last):\n",
      "  File \"c:\\Users\\MiguelAngelSanchezRa\\anaconda3\\envs\\base2\\Lib\\unittest\\mock.py\", line 1372, in patched\n",
      "    with self.decoration_helper(patched,\n",
      "  File \"c:\\Users\\MiguelAngelSanchezRa\\anaconda3\\envs\\base2\\Lib\\contextlib.py\", line 137, in __enter__\n",
      "    return next(self.gen)\n",
      "           ^^^^^^^^^^^^^^\n",
      "  File \"c:\\Users\\MiguelAngelSanchezRa\\anaconda3\\envs\\base2\\Lib\\unittest\\mock.py\", line 1354, in decoration_helper\n",
      "    arg = exit_stack.enter_context(patching)\n",
      "          ^^^^^^^^^^^^^^^^^^^^^^^^^^^^^^^^^^\n",
      "  File \"c:\\Users\\MiguelAngelSanchezRa\\anaconda3\\envs\\base2\\Lib\\contextlib.py\", line 505, in enter_context\n",
      "    result = _enter(cm)\n",
      "             ^^^^^^^^^^\n",
      "  File \"c:\\Users\\MiguelAngelSanchezRa\\anaconda3\\envs\\base2\\Lib\\unittest\\mock.py\", line 1443, in __enter__\n",
      "    original, local = self.get_original()\n",
      "                      ^^^^^^^^^^^^^^^^^^^\n",
      "  File \"c:\\Users\\MiguelAngelSanchezRa\\anaconda3\\envs\\base2\\Lib\\unittest\\mock.py\", line 1416, in get_original\n",
      "    raise AttributeError(\n",
      "AttributeError: <module 'builtins' (built-in)> does not have the attribute 'datetime'\n",
      "\n",
      "======================================================================\n",
      "ERROR: test_simulate_long_operation (__main__.TestTimeSensitiveLogic.test_simulate_long_operation)\n",
      "----------------------------------------------------------------------\n",
      "Traceback (most recent call last):\n",
      "  File \"c:\\Users\\MiguelAngelSanchezRa\\anaconda3\\envs\\base2\\Lib\\unittest\\mock.py\", line 1372, in patched\n",
      "    with self.decoration_helper(patched,\n",
      "  File \"c:\\Users\\MiguelAngelSanchezRa\\anaconda3\\envs\\base2\\Lib\\contextlib.py\", line 137, in __enter__\n",
      "    return next(self.gen)\n",
      "           ^^^^^^^^^^^^^^\n",
      "  File \"c:\\Users\\MiguelAngelSanchezRa\\anaconda3\\envs\\base2\\Lib\\unittest\\mock.py\", line 1354, in decoration_helper\n",
      "    arg = exit_stack.enter_context(patching)\n",
      "          ^^^^^^^^^^^^^^^^^^^^^^^^^^^^^^^^^^\n",
      "  File \"c:\\Users\\MiguelAngelSanchezRa\\anaconda3\\envs\\base2\\Lib\\contextlib.py\", line 505, in enter_context\n",
      "    result = _enter(cm)\n",
      "             ^^^^^^^^^^\n",
      "  File \"c:\\Users\\MiguelAngelSanchezRa\\anaconda3\\envs\\base2\\Lib\\unittest\\mock.py\", line 1443, in __enter__\n",
      "    original, local = self.get_original()\n",
      "                      ^^^^^^^^^^^^^^^^^^^\n",
      "  File \"c:\\Users\\MiguelAngelSanchezRa\\anaconda3\\envs\\base2\\Lib\\unittest\\mock.py\", line 1416, in get_original\n",
      "    raise AttributeError(\n",
      "AttributeError: <module 'builtins' (built-in)> does not have the attribute 'datetime'\n",
      "\n",
      "======================================================================\n",
      "FAIL: test_get_random_number_in_range_deterministic_with_seed (__main__.TestRandomness.test_get_random_number_in_range_deterministic_with_seed)\n",
      "----------------------------------------------------------------------\n",
      "Traceback (most recent call last):\n",
      "  File \"C:\\Users\\MiguelAngelSanchezRa\\AppData\\Local\\Temp\\ipykernel_35088\\1501727292.py\", line 69, in test_get_random_number_in_range_deterministic_with_seed\n",
      "    self.assertEqual(get_random_number_in_range(1, 10), expected_sequence[0])\n",
      "AssertionError: 3 != 8\n",
      "\n",
      "----------------------------------------------------------------------\n",
      "Ran 9 tests in 0.016s\n",
      "\n",
      "FAILED (failures=1, errors=2)\n"
     ]
    }
   ],
   "source": [
    "import unittest\n",
    "\n"
   ]
  },
  {
   "cell_type": "markdown",
   "id": "exercise_3_solution_end_tag",
   "metadata": {},
   "source": [
    "</details>"
   ]
  },
  {
   "cell_type": "markdown",
   "id": "exercise_4_desc",
   "metadata": {},
   "source": [
    "### Unconventional Exercise 4: Testing Time-Sensitive Logic\n",
    "\n",
    "**Scenario:** You have a function that performs an action, and its behavior depends on the current time or a delay. You want to test it without actually waiting.\n",
    "\n",
    "**Code to Test:**"
   ]
  },
  {
   "cell_type": "code",
   "execution_count": 3,
   "id": "exercise_4_code_to_test",
   "metadata": {},
   "outputs": [],
   "source": [
    "import time\n",
    "from datetime import datetime, timedelta\n",
    "\n",
    "def get_greeting(hour):\n",
    "    \"\"\"Returns a greeting based on the hour (0-23).\"\"\"\n",
    "    if 6 <= hour < 12:\n",
    "        return \"Good morning!\"\n",
    "    elif 12 <= hour < 18:\n",
    "        return \"Good afternoon!\"\n",
    "    else:\n",
    "        return \"Good evening!\"\n",
    "\n",
    "def simulate_long_operation(duration_seconds):\n",
    "    \"\"\"Simulates an operation that takes a certain duration.\"\"\"\n",
    "    start_time = datetime.now()\n",
    "    # In a real scenario, this would involve some computation/IO\n",
    "    time.sleep(duration_seconds)\n",
    "    end_time = datetime.now()\n",
    "    return end_time - start_time"
   ]
  },
  {
   "cell_type": "markdown",
   "id": "exercise_4_task_and_solution_toggle",
   "metadata": {},
   "source": [
    "**Task:** Write `unittest` tests for these functions using `mock` (which is part of `unittest.mock` in Python 3.3+).\n",
    "1.  **For `get_greeting`:**\n",
    "    * Use `unittest.mock.patch` to mock `datetime.now()` so you can control what time `datetime.now()` returns. Test each greeting period (morning, afternoon, evening).\n",
    "    * **Hint:** `with patch('builtins.datetime') as mock_dt: mock_dt.now.return_value = your_test_datetime; # Call your function`\n",
    "2.  **For `simulate_long_operation`:**\n",
    "    * Use `unittest.mock.patch` to mock `time.sleep()`. Assert that `time.sleep()` was called with the correct `duration_seconds` argument, without actually waiting.\n",
    "    * **Hint:** You'll need to mock both `datetime.now` and `time.sleep`. For `datetime.now`, you can set different `side_effect` values or `return_value`s for successive calls to simulate time passing.\n",
    "\n",
    "<details>\n",
    "<summary>Click to reveal Solution for Exercise 4</summary>"
   ]
  },
  {
   "cell_type": "code",
   "execution_count": null,
   "id": "exercise_4_solution_code",
   "metadata": {},
   "outputs": [],
   "source": [
    "import unittest\n"
   ]
  },
  {
   "cell_type": "markdown",
   "id": "exercise_4_solution_end_tag",
   "metadata": {},
   "source": [
    "</details>"
   ]
  },
  {
   "cell_type": "markdown",
   "id": "exercise_5_desc",
   "metadata": {},
   "source": [
    "### Exercise 5: Testing Output (Print Statements)\n",
    "\n",
    "**Scenario:** You have a function that primarily interacts with the user by printing to the console, and you want to ensure it prints the correct messages.\n",
    "\n",
    "**Code to Test:**"
   ]
  },
  {
   "cell_type": "code",
   "execution_count": null,
   "id": "exercise_5_code_to_test",
   "metadata": {},
   "outputs": [],
   "source": [
    "def print_countdown(n):\n",
    "    \"\"\"Prints a countdown from n to 1, then 'Lift off!'.\"\"\"\n",
    "    for i in range(n, 0, -1):\n",
    "        print(f\"{i}...\")\n",
    "    print(\"Lift off!\")\n",
    "\n",
    "def confirm_action(action_name):\n",
    "    \"\"\"Asks for confirmation and prints a message.\"\"\"\n",
    "    print(f\"Are you sure you want to {action_name}? (yes/no)\")\n",
    "    # In a real app, this would get input; here, we just print\n",
    "    print(\"Action confirmed (simulated).\")"
   ]
  },
  {
   "cell_type": "markdown",
   "id": "unconventional_exercise_3_task_and_solution_toggle",
   "metadata": {},
   "source": [
    "**Task:** Write `unittest` tests for these functions.\n",
    "1.  **For `print_countdown`:**\n",
    "    * Capture `sys.stdout` (where `print` sends output) and assert that the captured output matches the expected countdown string precisely.\n",
    "    * **Hint:** Use `io.StringIO` and `sys.stdout = my_string_io` (and remember to restore `sys.stdout` in `tearDown` or a `finally` block).\n",
    "2.  **For `confirm_action`:**\n",
    "    * Capture `sys.stdout` and verify that both expected lines of text are printed.\n",
    "\n",
    "<details>\n",
    "<summary>Click to reveal Solution for Unconventional Exercise 3</summary>"
   ]
  },
  {
   "cell_type": "code",
   "execution_count": null,
   "id": "exercise_5_solution_code",
   "metadata": {},
   "outputs": [
    {
     "name": "stderr",
     "output_type": "stream",
     "text": [
      "..\n",
      "----------------------------------------------------------------------\n",
      "Ran 2 tests in 0.002s\n",
      "\n",
      "OK\n"
     ]
    }
   ],
   "source": [
    "import unittest\n"
   ]
  },
  {
   "cell_type": "markdown",
   "id": "exercise_5_solution_end_tag",
   "metadata": {},
   "source": [
    "</details>"
   ]
  }
 ],
 "metadata": {
  "kernelspec": {
   "display_name": "base2",
   "language": "python",
   "name": "python3"
  },
  "language_info": {
   "codemirror_mode": {
    "name": "ipython",
    "version": 3
   },
   "file_extension": ".py",
   "mimetype": "text/x-python",
   "name": "python",
   "nbconvert_exporter": "python",
   "pygments_lexer": "ipython3",
   "version": "3.11.4"
  }
 },
 "nbformat": 4,
 "nbformat_minor": 5
}
